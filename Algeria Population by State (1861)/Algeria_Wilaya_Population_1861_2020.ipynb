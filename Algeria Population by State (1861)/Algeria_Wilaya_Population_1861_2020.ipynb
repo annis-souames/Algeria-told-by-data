{
  "nbformat": 4,
  "nbformat_minor": 0,
  "metadata": {
    "colab": {
      "name": "Algeria Wilaya Population 1861-2020.ipynb",
      "provenance": []
    },
    "kernelspec": {
      "name": "python3",
      "display_name": "Python 3"
    },
    "language_info": {
      "name": "python"
    }
  },
  "cells": [
    {
      "cell_type": "markdown",
      "metadata": {
        "id": "hvOXvni6sFDB"
      },
      "source": [
        "# Algeria Population by State (Wilaya) from 1861 to 2020\n",
        "\n",
        "***By Souames Mohamed Annis & Bousselat Ahmed Moncef***\n",
        "\n",
        "This notebook will build an animated choropleth of the population of the 48 states of Algeria from 1861 (colonized era) to 2020 (Last year).\n",
        "\n",
        "## Used Libraries :\n",
        "- BeautifulSoup\n",
        "- Requests\n",
        "- Geopandas\n",
        "- Pandas\n",
        "- Scipy\n",
        "- Matplotlib\n",
        "- Moviepy\n",
        "\n",
        "## Data Sources : \n",
        "- ONS : the national statistics office offer population data per state for different census : 1987, 1998, 2008.\n",
        "- World Bank : Total algerian population from 1960 to 2020\n",
        "- Persee : French archives for total algerian population before 1960, upto 1861.\n",
        "\n",
        "\n",
        "## Method:\n",
        "\n",
        "The idea is to use linear interpolation between census data, and for years where we do not have the population by state, but we have the total population we juste use a percent calculated from the closest point (2008 or 1987).\n",
        "\n",
        "These percents are calculated using the ONS data since they are the most reliable for the period of 1987-2008.\n",
        "\n",
        "Example : to get the approximate population of the Tamanrasset state in 2010, we use the percent of population in tamanresset in 2008 (ONS data) then multiply it by the total population of 2010 (world bank data).\n",
        "\n",
        "The inconvenient with this technique is that we are not taking into account the distribution of percentages over the years. However it's still a good approximation."
      ]
    },
    {
      "cell_type": "code",
      "metadata": {
        "id": "CrLQRjxcr53M"
      },
      "source": [
        "!pip install geopandas bs4 requests"
      ],
      "execution_count": null,
      "outputs": []
    },
    {
      "cell_type": "code",
      "metadata": {
        "id": "1aanBFBlyGTX"
      },
      "source": [
        "from bs4 import BeautifulSoup\n",
        "import requests\n",
        "import pandas as pd\n",
        "import geopandas as gpd\n",
        "import numpy as np\n",
        "import scipy as scp\n",
        "import matplotlib.pyplot as plt\n",
        "from scipy import interpolate\n",
        "import os\n",
        "from moviepy.editor import ImageSequenceClip"
      ],
      "execution_count": 3,
      "outputs": []
    },
    {
      "cell_type": "markdown",
      "metadata": {
        "id": "lhSWRKCxyt0c"
      },
      "source": [
        "Let's get a geojson file of all states (58 according to the new borders), however we will later try to convert it to the old 48 states using dissolve from GeoPandas."
      ]
    },
    {
      "cell_type": "code",
      "metadata": {
        "colab": {
          "base_uri": "https://localhost:8080/"
        },
        "id": "BwPRKOW9ysBR",
        "outputId": "7f8f0156-ae66-45b5-f323-f3c79eb70760"
      },
      "source": [
        "!wget https://raw.githubusercontent.com/fr33dz/Algeria-geojson/master/all-wilayas.geojson -O \"all-wilayas.geojson\""
      ],
      "execution_count": 5,
      "outputs": [
        {
          "output_type": "stream",
          "name": "stdout",
          "text": [
            "--2021-10-26 13:30:53--  https://raw.githubusercontent.com/fr33dz/Algeria-geojson/master/all-wilayas.geojson\n",
            "Resolving raw.githubusercontent.com (raw.githubusercontent.com)... 185.199.110.133, 185.199.109.133, 185.199.111.133, ...\n",
            "Connecting to raw.githubusercontent.com (raw.githubusercontent.com)|185.199.110.133|:443... connected.\n",
            "HTTP request sent, awaiting response... 200 OK\n",
            "Length: 22768492 (22M) [text/plain]\n",
            "Saving to: ‘all-wilayas.geojson’\n",
            "\n",
            "all-wilayas.geojson 100%[===================>]  21.71M   137MB/s    in 0.2s    \n",
            "\n",
            "2021-10-26 13:30:53 (137 MB/s) - ‘all-wilayas.geojson’ saved [22768492/22768492]\n",
            "\n"
          ]
        }
      ]
    },
    {
      "cell_type": "markdown",
      "metadata": {
        "id": "gLpf_-nAzAtE"
      },
      "source": [
        "## Building 48 wilayas geojson"
      ]
    },
    {
      "cell_type": "code",
      "metadata": {
        "id": "IPBfe-SdzAMJ"
      },
      "source": [
        "def build_gpd(geojson):\n",
        "    # Convert algeria's new 58 states to the standard 48 states\n",
        "    algeria_48 = geojson.copy()\n",
        "    algeria_48 = algeria_48.drop(['name_ar', 'name_ber', 'density'], axis=\"columns\")\n",
        "    renames = {\n",
        "        \"Timimoune\": \"Adrar\",\n",
        "        \"Bordj Badji Mokhtar\": \"Adrar\",\n",
        "        \"In Guezzam\": \"Tamanrasset\",\n",
        "        \"In Salah\": \"Tamanrasset\",\n",
        "        \"Djanet\": \"Illizi\",\n",
        "        \"Béni Abbès\": \"Béchar\",\n",
        "        \"El Menia\": \"Ghardaia\",\n",
        "        \"Ouled Djellal\": \"Biskra\",\n",
        "        \"El M'Ghair\": \"El Oued\",\n",
        "        \"Touggourt\": \"Ouargla\"\n",
        "    } \n",
        "    for prev_name, new_name in renames.items():\n",
        "        algeria_48['name'] = algeria_48['name'].replace([prev_name], new_name)\n",
        "\n",
        "    algeria_48[\"geometry\"] = algeria_48['geometry'].buffer(0.0001)\n",
        "    algeria_48 = algeria_48.dissolve(by='name', as_index=False)\n",
        "\n",
        "    algeria_48[\"city_code\"] = pd.to_numeric(algeria_48[\"city_code\"])\n",
        "\n",
        "    algeria_48 = algeria_48.set_index(\"city_code\").sort_index()\n",
        "    algeria_48 = algeria_48.rename(columns={\"name\": \"wilaya\"})\n",
        "    \n",
        "    return algeria_48"
      ],
      "execution_count": 6,
      "outputs": []
    },
    {
      "cell_type": "code",
      "metadata": {
        "id": "DAzcO_YezO_g"
      },
      "source": [
        "algeria = gpd.read_file('all-wilayas.geojson')"
      ],
      "execution_count": 7,
      "outputs": []
    },
    {
      "cell_type": "code",
      "metadata": {
        "id": "WhuHsBIJzUQD"
      },
      "source": [
        "algeria_48 = build_gpd(algeria)"
      ],
      "execution_count": 33,
      "outputs": []
    },
    {
      "cell_type": "markdown",
      "metadata": {
        "id": "xPzYV5qlxlra"
      },
      "source": [
        "# Scraping data from Wikipedia (1987-2008) : \n",
        "\n",
        "There is a wikipedia page with data from ONS with population over 3 census : 1987, 1998,2008 per state. These are quite reliable data and official numbers.\n",
        "\n",
        "For years between each census, we use a linear interpolation.\n",
        "\n"
      ]
    },
    {
      "cell_type": "code",
      "metadata": {
        "id": "020Zo1mcyEEa"
      },
      "source": [
        "def scrape_algeria_pop():\n",
        "    base_url = \"https://en.wikipedia.org/wiki/List_of_Algerian_provinces_by_population\"\n",
        "    page = requests.get(base_url).text\n",
        "    soup = BeautifulSoup(page,\"html.parser\")\n",
        "    table = soup.find('table',class_ = \"wikitable\")\n",
        "    df = pd.read_html(str(table).replace(\"&nbsp;\",\"\"))\n",
        "    return df[0]\n",
        "\n",
        "def clean_df(df):\n",
        "    temp = df.copy()\n",
        "    temp[\"Name\"] = [wil.replace(\"Province\",\"\") for wil in temp[\"Name\"]]\n",
        "    temp = temp.rename(\n",
        "        {\n",
        "            \"Name\": \"wilaya\",\n",
        "            \"1987 census\": \"1987\",\n",
        "            \"1998 census\": \"1998\",    \n",
        "            \"2008 census\": \"2008\",\n",
        "        },\n",
        "        axis=1\n",
        "    )\n",
        "    temp = temp[:-1]\n",
        "    cols = [\"1987\",\"1998\",\"2008\"]\n",
        "    \n",
        "    for col in cols:\n",
        "        temp[col] = temp[col].astype(\"int\")\n",
        "    \n",
        "    return temp\n",
        "\n",
        "def generate_other_years(df,start,end):\n",
        "    # Interpolate years between each census\n",
        "    years = [y for y in range(start,end)]\n",
        "\n",
        "    for wil in df.wilaya :\n",
        "        # Build interpolated function for each wilaya : \n",
        "        true_y = df[['1987','1998','2008']].values\n",
        "\n",
        "    f = interpolate.interp1d([1987,1998,2008],true_y,kind='quadratic')\n",
        "    for y in years: \n",
        "        df[str(y)] = f(y)\n",
        "        #df[str(y)] = df[str(y)].astype(\"int\").apply(np.log)\n",
        "\n",
        "    return df"
      ],
      "execution_count": 4,
      "outputs": []
    },
    {
      "cell_type": "code",
      "metadata": {
        "id": "u4KLP0FOym0E"
      },
      "source": [
        "# data_1 is a df for years between 1987 and 2008\n",
        "data_1 = scrape_algeria_pop()\n",
        "data_1 = generate_other_years(clean_df(data_1),1987,2008)\n",
        "data_1[\"Wilaya\"] = pd.to_numeric(data_1[\"Wilaya\"])\n",
        "data_1 = data_1.rename(columns={\"Wilaya\": \"city_code\"}).drop(['wilaya'], axis=\"columns\")\n"
      ],
      "execution_count": 24,
      "outputs": []
    },
    {
      "cell_type": "markdown",
      "metadata": {
        "id": "7_5UWvn369-m"
      },
      "source": [
        "##Generate total population between 1861-2020:\n",
        "\n",
        "We created an excel file using manual data collection from 1861 to 2020 from world bank data and other french archives.\n",
        "\n",
        "You can find the csv file in the github `total_population.csv`.\n",
        "\n",
        "We then use percents to deduce the population for each state"
      ]
    },
    {
      "cell_type": "code",
      "metadata": {
        "id": "u-nmeMkn7Pxq"
      },
      "source": [
        "geometries = algeria_48[[\"wilaya\", \"geometry\"]].drop_duplicates().sort_values(\"wilaya\")\n",
        "\n",
        "percentages = algeria_48.groupby(by=[\"city_code\", \"wilaya\", \"year\"]).population.mean() / algeria_48.groupby(by=[\"year\"]).population.sum()\n",
        "\n",
        "s = []\n",
        "for i in range(len(percentages)):\n",
        "    s.append(percentages.index[i][2] == \"1987\")\n",
        "\n",
        "percentages = percentages[s].droplevel(2)\n",
        "\n",
        "a = algeria_48.copy()\n",
        "\n",
        "for y in range(1861, 1987):\n",
        "    pop = (percentages * algeria_pop[algeria_pop[\"year\"] == y][\"population\"].iloc[0]).astype(int).to_frame().reset_index()\n",
        "    pop[\"year\"] = y\n",
        "\n",
        "    pop = pop.merge(geometries, on=\"wilaya\", how=\"left\")\n",
        "    pop = pop[[\"city_code\", \"wilaya\", \"geometry\", \"year\", \"population\"]]\n",
        "    a = gpd.GeoDataFrame(pd.concat([a, pop], ignore_index=True))\n",
        "\n",
        "\n",
        "percentages = algeria_48.groupby(by=[\"city_code\", \"wilaya\", \"year\"]).population.mean() / algeria_48.groupby(by=[\"year\"]).population.sum()\n",
        "\n",
        "s = []\n",
        "for i in range(len(percentages)):\n",
        "    s.append(percentages.index[i][2] == \"2008\")\n",
        "\n",
        "percentages = percentages[s].droplevel(2)\n",
        "\n",
        "for y in range(2009, 2021):\n",
        "    pop = (percentages * algeria_pop[algeria_pop[\"year\"] == y][\"population\"].iloc[0]).astype(int).to_frame().reset_index()\n",
        "    pop[\"year\"] = y\n",
        "\n",
        "    pop = pop.merge(geometries, on=\"wilaya\", how=\"left\")\n",
        "    pop = pop[[\"city_code\", \"wilaya\", \"geometry\", \"year\", \"population\"]]\n",
        "    a = gpd.GeoDataFrame(pd.concat([a, pop], ignore_index=True))\n",
        "\n",
        "a[\"year\"] = a.year.astype(int)\n",
        "\n",
        "a = a.sort_values([\"year\", \"city_code\"]).reset_index().drop(['index'], axis=\"columns\")\n"
      ],
      "execution_count": 19,
      "outputs": []
    },
    {
      "cell_type": "markdown",
      "metadata": {
        "id": "-PEPXQ4S8ikD"
      },
      "source": [
        "## Final geo dataframe\n",
        "\n",
        "You can find a csv file with all data if you find problems with running the code.\n",
        "\n"
      ]
    },
    {
      "cell_type": "code",
      "metadata": {
        "colab": {
          "base_uri": "https://localhost:8080/",
          "height": 206
        },
        "id": "t6NAH2hd9CSt",
        "outputId": "d75e2820-cf51-4d23-f441-3bba7a7618ce"
      },
      "source": [
        "data = pd.read_csv(\"pop_wilaya_generated.csv\")\n",
        "data.head()"
      ],
      "execution_count": 25,
      "outputs": [
        {
          "output_type": "execute_result",
          "data": {
            "text/html": [
              "<div>\n",
              "<style scoped>\n",
              "    .dataframe tbody tr th:only-of-type {\n",
              "        vertical-align: middle;\n",
              "    }\n",
              "\n",
              "    .dataframe tbody tr th {\n",
              "        vertical-align: top;\n",
              "    }\n",
              "\n",
              "    .dataframe thead th {\n",
              "        text-align: right;\n",
              "    }\n",
              "</style>\n",
              "<table border=\"1\" class=\"dataframe\">\n",
              "  <thead>\n",
              "    <tr style=\"text-align: right;\">\n",
              "      <th></th>\n",
              "      <th>city_code</th>\n",
              "      <th>wilaya</th>\n",
              "      <th>year</th>\n",
              "      <th>population</th>\n",
              "    </tr>\n",
              "  </thead>\n",
              "  <tbody>\n",
              "    <tr>\n",
              "      <th>0</th>\n",
              "      <td>1</td>\n",
              "      <td>Adrar</td>\n",
              "      <td>1861</td>\n",
              "      <td>28017</td>\n",
              "    </tr>\n",
              "    <tr>\n",
              "      <th>1</th>\n",
              "      <td>2</td>\n",
              "      <td>Chlef</td>\n",
              "      <td>1861</td>\n",
              "      <td>87786</td>\n",
              "    </tr>\n",
              "    <tr>\n",
              "      <th>2</th>\n",
              "      <td>3</td>\n",
              "      <td>Laghouat</td>\n",
              "      <td>1861</td>\n",
              "      <td>27791</td>\n",
              "    </tr>\n",
              "    <tr>\n",
              "      <th>3</th>\n",
              "      <td>4</td>\n",
              "      <td>Oum El Bouaghi</td>\n",
              "      <td>1861</td>\n",
              "      <td>52007</td>\n",
              "    </tr>\n",
              "    <tr>\n",
              "      <th>4</th>\n",
              "      <td>5</td>\n",
              "      <td>Batna</td>\n",
              "      <td>1861</td>\n",
              "      <td>97775</td>\n",
              "    </tr>\n",
              "  </tbody>\n",
              "</table>\n",
              "</div>"
            ],
            "text/plain": [
              "   city_code          wilaya  year  population\n",
              "0          1           Adrar  1861       28017\n",
              "1          2           Chlef  1861       87786\n",
              "2          3        Laghouat  1861       27791\n",
              "3          4  Oum El Bouaghi  1861       52007\n",
              "4          5           Batna  1861       97775"
            ]
          },
          "metadata": {},
          "execution_count": 25
        }
      ]
    },
    {
      "cell_type": "code",
      "metadata": {
        "id": "6BhdJXpq9PWL"
      },
      "source": [
        "algeria_data = algeria_48.merge(data, on=\"city_code\", how=\"left\")"
      ],
      "execution_count": 35,
      "outputs": []
    },
    {
      "cell_type": "code",
      "metadata": {
        "colab": {
          "base_uri": "https://localhost:8080/",
          "height": 206
        },
        "id": "HAoj2UFk9Qjc",
        "outputId": "6da39d31-999f-44e8-e5fb-816d5af3ed32"
      },
      "source": [
        "algeria_data.head()"
      ],
      "execution_count": 36,
      "outputs": [
        {
          "output_type": "execute_result",
          "data": {
            "text/html": [
              "<div>\n",
              "<style scoped>\n",
              "    .dataframe tbody tr th:only-of-type {\n",
              "        vertical-align: middle;\n",
              "    }\n",
              "\n",
              "    .dataframe tbody tr th {\n",
              "        vertical-align: top;\n",
              "    }\n",
              "\n",
              "    .dataframe thead th {\n",
              "        text-align: right;\n",
              "    }\n",
              "</style>\n",
              "<table border=\"1\" class=\"dataframe\">\n",
              "  <thead>\n",
              "    <tr style=\"text-align: right;\">\n",
              "      <th></th>\n",
              "      <th>city_code</th>\n",
              "      <th>wilaya_x</th>\n",
              "      <th>geometry</th>\n",
              "      <th>wilaya_y</th>\n",
              "      <th>year</th>\n",
              "      <th>population</th>\n",
              "    </tr>\n",
              "  </thead>\n",
              "  <tbody>\n",
              "    <tr>\n",
              "      <th>0</th>\n",
              "      <td>1</td>\n",
              "      <td>Adrar</td>\n",
              "      <td>POLYGON ((1.42706 23.99752, 1.42854 23.95840, ...</td>\n",
              "      <td>Adrar</td>\n",
              "      <td>1861</td>\n",
              "      <td>28017</td>\n",
              "    </tr>\n",
              "    <tr>\n",
              "      <th>1</th>\n",
              "      <td>1</td>\n",
              "      <td>Adrar</td>\n",
              "      <td>POLYGON ((1.42706 23.99752, 1.42854 23.95840, ...</td>\n",
              "      <td>Adrar</td>\n",
              "      <td>1862</td>\n",
              "      <td>28600</td>\n",
              "    </tr>\n",
              "    <tr>\n",
              "      <th>2</th>\n",
              "      <td>1</td>\n",
              "      <td>Adrar</td>\n",
              "      <td>POLYGON ((1.42706 23.99752, 1.42854 23.95840, ...</td>\n",
              "      <td>Adrar</td>\n",
              "      <td>1863</td>\n",
              "      <td>29183</td>\n",
              "    </tr>\n",
              "    <tr>\n",
              "      <th>3</th>\n",
              "      <td>1</td>\n",
              "      <td>Adrar</td>\n",
              "      <td>POLYGON ((1.42706 23.99752, 1.42854 23.95840, ...</td>\n",
              "      <td>Adrar</td>\n",
              "      <td>1864</td>\n",
              "      <td>29767</td>\n",
              "    </tr>\n",
              "    <tr>\n",
              "      <th>4</th>\n",
              "      <td>1</td>\n",
              "      <td>Adrar</td>\n",
              "      <td>POLYGON ((1.42706 23.99752, 1.42854 23.95840, ...</td>\n",
              "      <td>Adrar</td>\n",
              "      <td>1865</td>\n",
              "      <td>30350</td>\n",
              "    </tr>\n",
              "  </tbody>\n",
              "</table>\n",
              "</div>"
            ],
            "text/plain": [
              "   city_code wilaya_x  ...  year population\n",
              "0          1    Adrar  ...  1861      28017\n",
              "1          1    Adrar  ...  1862      28600\n",
              "2          1    Adrar  ...  1863      29183\n",
              "3          1    Adrar  ...  1864      29767\n",
              "4          1    Adrar  ...  1865      30350\n",
              "\n",
              "[5 rows x 6 columns]"
            ]
          },
          "metadata": {},
          "execution_count": 36
        }
      ]
    },
    {
      "cell_type": "markdown",
      "metadata": {
        "id": "igZJlXpn9xf7"
      },
      "source": [
        "# Create animated choropleth\n",
        "\n",
        "We will use matplotlib and geopandas to create a choropleth, then save every year as a jpeg image, and then create an MP4 through moviepy"
      ]
    },
    {
      "cell_type": "code",
      "metadata": {
        "id": "FTVca15V9-6l"
      },
      "source": [
        "!rm -rdf images\n",
        "!mkdir images"
      ],
      "execution_count": 38,
      "outputs": []
    },
    {
      "cell_type": "code",
      "metadata": {
        "id": "tlDKcGJk-PdS"
      },
      "source": [
        "vmax = algeria_data.population.max()\n",
        "vmin = algeria_data.population.min()"
      ],
      "execution_count": 42,
      "outputs": []
    },
    {
      "cell_type": "code",
      "metadata": {
        "id": "kSsiIjbCzs8I"
      },
      "source": [
        "for y in range(1861,2021):\n",
        "  \n",
        "  fig = algeria_data[algeria_data.year == y].plot(figsize=(10, 10), column=\"population\", cmap='plasma', vmin = vmin, vmax = vmax, legend=True, norm=plt.Normalize(vmin=vmin, vmax=vmax))\n",
        "  plt.title(\"Algeria's Population in \" + str(y))\n",
        "  plt.annotate('© Souames Mohamed Annis & Bousselat Ahmed Moncef - Algeria told by data (Github)', (0,0), (0, -20), xycoords='axes fraction', textcoords='offset points', va='top')\n",
        "  fn = \"pop_\" + str(y) + \".jpg\"\n",
        "  filepath = os.path.join('/content/images', fn)\n",
        "  chart = fig.get_figure()\n",
        "  chart.savefig(filepath, dpi=200)\n",
        "  plt.close(chart)"
      ],
      "execution_count": 43,
      "outputs": []
    },
    {
      "cell_type": "code",
      "metadata": {
        "colab": {
          "base_uri": "https://localhost:8080/"
        },
        "id": "Uh53-kWr-taL",
        "outputId": "fb06cfd3-f87d-45aa-cbfa-5fd472aff4ce"
      },
      "source": [
        "from moviepy.editor import ImageSequenceClip\n",
        "images = []\n",
        "#load 10 images\n",
        "for i in range(1861,2021):\n",
        "    images.append('images/pop_'+str(i)+'.jpg')\n",
        "\n",
        "clip = ImageSequenceClip(images,fps=10)\n",
        "clip.write_videofile('pop_new_plasma_10.mp4')"
      ],
      "execution_count": 44,
      "outputs": [
        {
          "output_type": "stream",
          "name": "stdout",
          "text": [
            "[MoviePy] >>>> Building video pop_new_plasma_10.mp4\n",
            "[MoviePy] Writing video pop_new_plasma_10.mp4\n"
          ]
        },
        {
          "output_type": "stream",
          "name": "stderr",
          "text": [
            "100%|██████████| 160/160 [00:16<00:00,  9.64it/s]\n"
          ]
        },
        {
          "output_type": "stream",
          "name": "stdout",
          "text": [
            "[MoviePy] Done.\n",
            "[MoviePy] >>>> Video ready: pop_new_plasma_10.mp4 \n",
            "\n"
          ]
        }
      ]
    }
  ]
}